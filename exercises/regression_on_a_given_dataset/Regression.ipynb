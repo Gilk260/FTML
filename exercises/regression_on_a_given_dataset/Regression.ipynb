{
 "cells": [
  {
   "cell_type": "markdown",
   "id": "ae89e899",
   "metadata": {},
   "source": [
    "# Regression\n",
    "\n",
    "Perform a regression on the dataset stored in `FTML/Project/data/regression/`."
   ]
  },
  {
   "cell_type": "code",
   "execution_count": 76,
   "id": "598589b6",
   "metadata": {},
   "outputs": [],
   "source": [
    "import matplotlib.pyplot as plt\n",
    "import numpy as np\n",
    "from pathlib import Path\n",
    "\n",
    "from sklearn.linear_model import LinearRegression, SGDRegressor, Ridge, Lasso, ElasticNet\n",
    "from sklearn.ensemble import RandomForestRegressor, GradientBoostingRegressor\n",
    "from sklearn.tree import DecisionTreeRegressor\n",
    "from sklearn.svm import SVR\n",
    "from sklearn.model_selection import train_test_split, cross_val_score\n",
    "from sklearn.metrics import r2_score\n",
    "from sklearn.model_selection import GridSearchCV, cross_val_score"
   ]
  },
  {
   "cell_type": "code",
   "execution_count": 2,
   "id": "d69a0d8e",
   "metadata": {
    "scrolled": true
   },
   "outputs": [
    {
     "name": "stdout",
     "output_type": "stream",
     "text": [
      "X_test.npy  X_train.npy  y_test.npy  y_train.npy\r\n"
     ]
    }
   ],
   "source": [
    "!ls '../../data/regression/'"
   ]
  },
  {
   "cell_type": "code",
   "execution_count": 3,
   "id": "e158771a",
   "metadata": {},
   "outputs": [
    {
     "data": {
      "text/plain": [
       "PosixPath('/home/gilles/Documents/Cours/EPITA/ING2/Fondamentaux_Theoriques_en_ML/Project/FTML/data/regression')"
      ]
     },
     "execution_count": 3,
     "metadata": {},
     "output_type": "execute_result"
    }
   ],
   "source": [
    "dataset_folder = Path('../../data/regression/')\n",
    "dataset_folder.resolve()"
   ]
  },
  {
   "cell_type": "code",
   "execution_count": 39,
   "id": "07199adc",
   "metadata": {
    "scrolled": true
   },
   "outputs": [
    {
     "name": "stdout",
     "output_type": "stream",
     "text": [
      "Inputs_train [[0.82921188 0.33620837 0.11307146 ... 0.26911057 0.39826737 0.69398368]\n",
      " [0.49605241 0.23338204 0.25629519 ... 0.64696802 0.03035201 0.76803069]\n",
      " [0.02905734 0.4937862  0.46724899 ... 0.44549826 0.41709255 0.47755807]\n",
      " ...\n",
      " [0.63059727 0.43887553 0.81276115 ... 0.95515152 0.86576297 0.43993964]\n",
      " [0.74742343 0.11276802 0.194641   ... 0.85089992 0.46785343 0.91046313]\n",
      " [0.01405356 0.65306567 0.59671311 ... 0.07302376 0.07829235 0.45123912]]\n",
      "Labels_train [2.03744078 3.86866045 1.82416592 2.50305137 0.63476318 3.64501907\n",
      " 2.10959603 2.53736946 2.36396361 1.8493183  0.26528054 3.29868999\n",
      " 0.68686673 1.97761143 2.33217634 2.35332258 2.13428688 2.8661636\n",
      " 2.60676028 1.84903027 2.39740233 1.84141611 1.66002837 2.32656456\n",
      " 2.63244469 2.92972212 1.90925142 2.19895187 2.88423105 3.04904381\n",
      " 2.40316574 3.23375526 0.66999314 2.37406771 1.90287596 3.87498277\n",
      " 1.81649276 2.48875646 2.67020008 2.25751607 2.82685912 2.89131867\n",
      " 2.33134054 1.3473857  1.44341091 2.62260362 1.80267415 1.44567032\n",
      " 3.30363042 3.01587068 1.80114078 2.6392626  3.55877608 1.57646016\n",
      " 2.77404335 1.76869377 2.88384032 1.73024363 2.12140584 3.78110161\n",
      " 2.35681852 2.5602742  1.76896624 1.92627717 2.4322861  1.58387464\n",
      " 4.10732933 3.21913322 2.32573811 2.11510571 3.23038468 2.7036469\n",
      " 3.20528819 2.71589378 2.7689924  1.76427459 2.09550847 2.19592128\n",
      " 3.53172217 2.19576772 2.64741057 2.04496253 3.4712399  3.38994257\n",
      " 2.16440656 2.88520749 2.98371427 2.4861185  2.77676679 1.81198116\n",
      " 2.54627754 3.43242189 1.97749113 2.18966257 3.185649   2.34361288\n",
      " 2.59849362 3.15843085 2.97503526 1.93460743]\n"
     ]
    }
   ],
   "source": [
    "x_train_file = 'X_train.npy'\n",
    "y_train_file = 'y_train.npy'\n",
    "\n",
    "X_train = np.load(dataset_folder.joinpath(x_train_file))\n",
    "y_train = np.load(dataset_folder.joinpath(y_train_file)).ravel()\n",
    "\n",
    "print('Inputs_train', X_train)\n",
    "print('Labels_train', y_train)"
   ]
  },
  {
   "cell_type": "code",
   "execution_count": 63,
   "id": "289b3db8",
   "metadata": {},
   "outputs": [],
   "source": [
    "x_test_file = 'X_test.npy'\n",
    "y_test_file = 'y_test.npy'\n",
    "\n",
    "X_test = np.load(dataset_folder.joinpath(x_test_file))\n",
    "y_test = np.load(dataset_folder.joinpath(y_test_file)).ravel()"
   ]
  },
  {
   "cell_type": "code",
   "execution_count": 6,
   "id": "f2e14632",
   "metadata": {},
   "outputs": [],
   "source": [
    "#X_train, X_val, y_train, y_val = train_test_split(inputs_train, labels_train, test_size=0.2, random_state=42)"
   ]
  },
  {
   "cell_type": "code",
   "execution_count": 59,
   "id": "2423d25a",
   "metadata": {},
   "outputs": [],
   "source": [
    "def compute(model, param_grid):\n",
    "    # Perform grid search with cross-validation\n",
    "    grid_search = GridSearchCV(model, param_grid, cv=5, scoring='r2')\n",
    "    grid_search.fit(X_train, y_train)\n",
    "\n",
    "    # Print the best hyperparameters and score\n",
    "    print(\"Best Hyperparameters:\", grid_search.best_params_)\n",
    "    print(\"Best R2 Score:\", grid_search.best_score_)\n",
    "\n",
    "    # Perform cross-validation with the best model\n",
    "    cv_scores = cross_val_score(grid_search.best_estimator_, X_test, y_test, cv=5, scoring='r2')\n",
    "    print(\"Cross-Validation Scores:\", cv_scores)"
   ]
  },
  {
   "cell_type": "markdown",
   "id": "7b5ea498",
   "metadata": {},
   "source": [
    "## Linear Regression model"
   ]
  },
  {
   "cell_type": "code",
   "execution_count": 64,
   "id": "e22b9e2f",
   "metadata": {},
   "outputs": [
    {
     "name": "stdout",
     "output_type": "stream",
     "text": [
      "Best Hyperparameters: {'fit_intercept': False}\n",
      "Best R2 Score: 0.15111261266625625\n",
      "Cross-Validation Scores: [-0.01065281  0.25674478  0.58253859  0.18507886  0.53897275]\n"
     ]
    }
   ],
   "source": [
    "# Define the hyperparameters to tune\n",
    "param_grid = {\n",
    "    'fit_intercept': [True, False]\n",
    "}\n",
    "\n",
    "compute(LinearRegression(), param_grid)"
   ]
  },
  {
   "cell_type": "markdown",
   "id": "4f34314e",
   "metadata": {},
   "source": [
    "## Random Forest Regression model"
   ]
  },
  {
   "cell_type": "code",
   "execution_count": 46,
   "id": "176c86ae",
   "metadata": {
    "scrolled": true
   },
   "outputs": [
    {
     "name": "stdout",
     "output_type": "stream",
     "text": [
      "Best Hyperparameters: {'max_depth': 5, 'min_samples_leaf': 1, 'min_samples_split': 2, 'n_estimators': 100}\n",
      "Best R2 Score: 0.4047318422764591\n",
      "Cross-Validation Scores: [0.40189335 0.45787189 0.43625472 0.45534033 0.06047542]\n"
     ]
    }
   ],
   "source": [
    "# Define the hyperparameters to tune\n",
    "param_grid = {\n",
    "    'n_estimators': [100, 1000],\n",
    "    'max_depth': [None, 5, 10],\n",
    "    'min_samples_split': [2, 5, 10],\n",
    "    'min_samples_leaf': [1, 2, 4]\n",
    "}\n",
    "\n",
    "compute(RandomForestRegressor(), param_grid)"
   ]
  },
  {
   "cell_type": "markdown",
   "id": "294fa915",
   "metadata": {},
   "source": [
    "## SVR"
   ]
  },
  {
   "cell_type": "code",
   "execution_count": 65,
   "id": "ca188515",
   "metadata": {},
   "outputs": [
    {
     "name": "stdout",
     "output_type": "stream",
     "text": [
      "Best Hyperparameters: {'C': 1.0, 'epsilon': 0.1, 'kernel': 'linear'}\n",
      "Best R2 Score: 0.5125351012747161\n",
      "Cross-Validation Scores: [0.24873256 0.5554407  0.76699458 0.59395155 0.49191999]\n"
     ]
    }
   ],
   "source": [
    "# Define the hyperparameters to tune\n",
    "param_grid = {\n",
    "    'kernel': ['linear', 'rbf'],\n",
    "    'C': [0.1, 1.0, 10.0],\n",
    "    'epsilon': [0.01, 0.1, 1.0]\n",
    "}\n",
    "\n",
    "\n",
    "compute(SVR(), param_grid)"
   ]
  },
  {
   "cell_type": "markdown",
   "id": "3f4a43bc",
   "metadata": {},
   "source": [
    "## SGDRegressor"
   ]
  },
  {
   "cell_type": "code",
   "execution_count": 66,
   "id": "5afc727f",
   "metadata": {},
   "outputs": [
    {
     "name": "stdout",
     "output_type": "stream",
     "text": [
      "Best Hyperparameters: {'alpha': 0.01, 'epsilon': 0.2, 'loss': 'squared_error', 'max_iter': 1000, 'penalty': 'l1'}\n",
      "Best R2 Score: 0.4874629486401371\n",
      "Cross-Validation Scores: [0.47538059 0.43292451 0.65360788 0.4147293  0.37759269]\n"
     ]
    }
   ],
   "source": [
    "param_grid = {\n",
    "    'loss': ['squared_error', 'huber'],\n",
    "    'penalty': ['l1', 'l2'],\n",
    "    'alpha': [0.0001, 0.001, 0.01],\n",
    "    'max_iter': [1000, 2000],\n",
    "    'epsilon': [0.01, 0.1, 0.2]\n",
    "}\n",
    "\n",
    "compute(SGDRegressor(), param_grid)"
   ]
  },
  {
   "cell_type": "markdown",
   "id": "00812803",
   "metadata": {},
   "source": [
    "## Ridge"
   ]
  },
  {
   "cell_type": "code",
   "execution_count": 67,
   "id": "b8d19f31",
   "metadata": {},
   "outputs": [
    {
     "name": "stdout",
     "output_type": "stream",
     "text": [
      "Best Hyperparameters: {'alpha': 1.0, 'solver': 'saga'}\n",
      "Best R2 Score: 0.5398352936850455\n",
      "Cross-Validation Scores: [0.28803107 0.55326009 0.76001826 0.60368298 0.47015371]\n"
     ]
    }
   ],
   "source": [
    "param_grid = {\n",
    "    'alpha': [0.1, 1.0, 10.0],\n",
    "    'solver': ['auto', 'svd', 'cholesky', 'lsqr', 'sparse_cg', 'sag', 'saga']\n",
    "}\n",
    "\n",
    "compute(Ridge(), param_grid)"
   ]
  },
  {
   "cell_type": "markdown",
   "id": "452ea56a",
   "metadata": {},
   "source": [
    "## Lasso"
   ]
  },
  {
   "cell_type": "code",
   "execution_count": 69,
   "id": "178a78e9",
   "metadata": {},
   "outputs": [
    {
     "name": "stdout",
     "output_type": "stream",
     "text": [
      "Best Hyperparameters: {'alpha': 0.1, 'max_iter': 1000}\n",
      "Best R2 Score: -0.06389917253307624\n",
      "Cross-Validation Scores: [ 0.04332234  0.01645156  0.00731001 -0.04941587 -0.11656802]\n"
     ]
    }
   ],
   "source": [
    "param_grid = {\n",
    "    'alpha': [0.1, 1.0, 10.0],\n",
    "    'max_iter': [1000]\n",
    "}\n",
    "\n",
    "compute(Lasso(), param_grid)"
   ]
  },
  {
   "cell_type": "markdown",
   "id": "3e971260",
   "metadata": {},
   "source": [
    "## ElasticNet"
   ]
  },
  {
   "cell_type": "code",
   "execution_count": 71,
   "id": "27a1efd3",
   "metadata": {
    "scrolled": true
   },
   "outputs": [
    {
     "name": "stdout",
     "output_type": "stream",
     "text": [
      "Best Hyperparameters: {'alpha': 0.1, 'l1_ratio': 0.1, 'max_iter': 1000}\n",
      "Best R2 Score: 0.5049860226461409\n",
      "Cross-Validation Scores: [0.48577972 0.49674582 0.58494139 0.34655154 0.42175439]\n"
     ]
    }
   ],
   "source": [
    "param_grid = {\n",
    "    'alpha': [0.1, 1.0, 10.0],\n",
    "    'l1_ratio': [0.1, 0.5, 0.9],\n",
    "    'max_iter': [1000]\n",
    "}\n",
    "\n",
    "compute(ElasticNet(), param_grid)"
   ]
  },
  {
   "cell_type": "markdown",
   "id": "2473dd77",
   "metadata": {},
   "source": [
    "## DecisionTreeRegressor"
   ]
  },
  {
   "cell_type": "code",
   "execution_count": 77,
   "id": "232f4a28",
   "metadata": {},
   "outputs": [
    {
     "name": "stdout",
     "output_type": "stream",
     "text": [
      "Best Hyperparameters: {'max_depth': 10, 'min_samples_leaf': 1, 'min_samples_split': 10}\n",
      "Best R2 Score: -0.08313260077329465\n",
      "Cross-Validation Scores: [-0.2884576  -0.11766592 -0.37464356 -0.86650934 -0.21570891]\n"
     ]
    }
   ],
   "source": [
    "param_grid = {\n",
    "    'max_depth': [None, 5, 10],\n",
    "    'min_samples_split': [2, 5, 10],\n",
    "    'min_samples_leaf': [1, 2, 4]\n",
    "}\n",
    "\n",
    "compute(DecisionTreeRegressor(), param_grid)"
   ]
  },
  {
   "cell_type": "markdown",
   "id": "3f0d8fc8",
   "metadata": {},
   "source": [
    "## GradientBoostingRegressor"
   ]
  },
  {
   "cell_type": "code",
   "execution_count": 79,
   "id": "7adc11e5",
   "metadata": {},
   "outputs": [
    {
     "name": "stdout",
     "output_type": "stream",
     "text": [
      "Best Hyperparameters: {'learning_rate': 0.1, 'max_depth': 3, 'min_samples_leaf': 4, 'min_samples_split': 10, 'n_estimators': 100}\n",
      "Best R2 Score: 0.5903055532257081\n",
      "Cross-Validation Scores: [0.49831757 0.52183783 0.60774635 0.18598053 0.35309548]\n"
     ]
    }
   ],
   "source": [
    "param_grid = {\n",
    "    'n_estimators': [100, 200, 500],\n",
    "    'learning_rate': [0.01, 0.1, 1.0],\n",
    "    'max_depth': [3, 5, 10],\n",
    "    'min_samples_split': [2, 5, 10],\n",
    "    'min_samples_leaf': [1, 2, 4]\n",
    "}\n",
    "\n",
    "compute(GradientBoostingRegressor(), param_grid)"
   ]
  },
  {
   "cell_type": "code",
   "execution_count": null,
   "id": "e9bce16f",
   "metadata": {},
   "outputs": [],
   "source": []
  }
 ],
 "metadata": {
  "kernelspec": {
   "display_name": "Python 3 (ipykernel)",
   "language": "python",
   "name": "python3"
  },
  "language_info": {
   "codemirror_mode": {
    "name": "ipython",
    "version": 3
   },
   "file_extension": ".py",
   "mimetype": "text/x-python",
   "name": "python",
   "nbconvert_exporter": "python",
   "pygments_lexer": "ipython3",
   "version": "3.10.9"
  }
 },
 "nbformat": 4,
 "nbformat_minor": 5
}
