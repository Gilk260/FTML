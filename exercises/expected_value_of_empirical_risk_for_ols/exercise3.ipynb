{
 "cells": [
  {
   "cell_type": "markdown",
   "metadata": {},
   "source": [
    "## Exercice 3: Expected value of empirical risk for OLS"
   ]
  },
  {
   "cell_type": "markdown",
   "metadata": {},
   "source": [
    "### Question 1:\n",
    "\n",
    "#### Montrer que $$E[R_n(\\hat{\\theta})] = E_{\\epsilon} \\left[ \\left( \\frac{1}{n} \\right) \\left\\| (I_n - X(X^T X)^{-1}X^T )\\epsilon \\right\\|^2 \\right]$$\n",
    "\n",
    "On sait que $$E[R_n(\\hat{\\theta})] = E \\left[ \\frac{1}{n} \\lVert y - X\\hat{\\theta} \\rVert^2_2 \\right]$$\n",
    "\n",
    "donc comme $$ y = X\\theta^* + \\epsilon$$ et $$\\hat{\\theta} = (X^T X)^{-1}X^Ty$$ et $$\\left\\| . \\right\\| = \\lVert . \\rVert^2_2$$ alors\n",
    "$$E[R_n(\\hat{\\theta})] = E \\left[ \\frac{1}{n} \\left\\| X\\theta^* + \\epsilon - X(X^T X)^{-1}X^T (X\\theta^* + \\epsilon) \\right\\|^2 \\right]$$\n",
    "\n",
    "$$E[R_n(\\hat{\\theta})] =  E \\left[ \\frac{1}{n} \\left\\| (I_n - X(X^T X)^{-1}X^T)\\epsilon \\right\\|^2 + \\left\\|(I_n - X(X^T X)^{-1}X^T) X\\theta^* \\right\\|^2 \\right]$$\n",
    "\n",
    "#### Donc on a $$E[R_n(\\hat{\\theta})] = E_{\\epsilon} \\left[ \\frac{1}{n} \\left\\| (I_n - X(X^T X)^{-1}X^T) \\epsilon \\right\\|^2 \\right]$$\n"
   ]
  },
  {
   "cell_type": "markdown",
   "metadata": {},
   "source": [
    "### Question 2: \n",
    "\n",
    "#### Montrer que $$\\sum_{(i,j) \\in [1, n]^2} (A_{ij})^2 = \\text{tr}(A^T A)$$\n",
    "\n",
    "On a $\\text{tr}(A^T A) = \\sum_{i=1}^{n} (A^T A)_{ii} = \\sum_{i=1}^{n} \\sum_{j=1}^{n} (A^T_{ij} A_{ji}) = \\sum_{i=1}^{n} \\sum_{j=1}^{n} A_{ij}^2 = \\sum_{(i,j) \\in [1, n]^2} (A_{ij})^2$\n"
   ]
  },
  {
   "cell_type": "markdown",
   "metadata": {},
   "source": [
    "### Question 3: \n",
    "\n",
    "#### Montrer que $$E_{\\epsilon}\\left[\\frac{1}{n} \\left\\|A\\epsilon \\right\\|^2\\right] = \\frac{\\sigma^2}{n} \\text{tr}(A^TA)$$\n",
    "\n",
    "On sait que $$E_{\\epsilon}\\left[\\frac{1}{n} \\left\\|A\\epsilon \\right\\|^2\\right] = \\frac{1}{n} E_{\\epsilon}\\left[\\left\\|A\\epsilon \\right\\|^2\\right]$$\n",
    "et que $$\\left\\|A\\epsilon\\right\\|^2 = \\sum_{i,j = 1}^{n} (A\\epsilon)_i (A\\epsilon)_j $$\n",
    "\n",
    "donc $$E_{\\epsilon}\\left[\\frac{1}{n} \\left\\|A\\epsilon \\right\\|^2\\right] =  \\frac{1}{n} \\sum_{i,j = 1}^{n} E[(A\\epsilon)_i (A\\epsilon)_j]= \\frac{1}{n} \\sigma^2 \\sum_{(i,j) \\in [1, n]^2} A_{ij}^2$$\n",
    "\n",
    "donc d'après le résultat démontrer dans la partie 2: $$E_{\\epsilon}\\left[\\frac{1}{n} \\left\\|A\\epsilon \\right\\|^2\\right] = \\frac{1}{n} \\sigma^2\\text{tr}(A^TA)$$"
   ]
  },
  {
   "cell_type": "markdown",
   "metadata": {},
   "source": [
    "### Question 4: \n",
    "\n",
    "Soit $A = I_n - X(X^T X)^{-1}X^T = I_n - \\alpha$ avec $\\alpha = X(X^T X)^{-1}X^T$\n",
    "\n",
    "Donc $$A^TA = (I_n - \\alpha)^T(I_n - \\alpha) = (I_n^T - \\alpha^T)(I_n - \\alpha)$$\n",
    "\n",
    "et comme $\\alpha = \\alpha^T$ car $(X(X^T X)^{-1}X^T)^T = X(X^T X)^{-1}X^T$\n",
    "et $\\alpha^2 = \\alpha$ car $X(X^T X)^{-1}X^TX(X^T X)^{-1}X^T = X(X^T X)^{-1}X^T$\n",
    "\n",
    "alors $$A^TA = I_n - 2\\alpha - \\alpha = I_n - \\alpha = A$$\n",
    "\n",
    "Donc $$A^TA = A$$"
   ]
  },
  {
   "cell_type": "markdown",
   "metadata": {},
   "source": [
    "### Question 5\n",
    "\n",
    "D'après la question 1 et 4 on a que $$E_{\\epsilon}\\left[\\frac{1}{n} \\left\\|A\\epsilon \\right\\|^2\\right] = \\frac{1}{n} \\sigma^2\\text{tr}(A^TA)$$ équivaut à $$E[R_n(\\hat{\\theta})] = \\frac{\\sigma^2}{n} \\text{tr}(A) = \\frac{\\sigma^2}{n} \\text{tr}(I_n - X(X^T X)^{-1}X^T)$$\n",
    "\n",
    "Et comme on a n tel que $$n = \\text{tr}(I_n)$$ et d tel que $$\\text{tr}(X(X^T X)^{-1}X^T) =  \\text{tr}(I_d) = d$$\n",
    "\n",
    "Car $\\text{tr}(X(X^T X)^{-1}X^T) = \\text{tr}(X^T X(X^T X)^{-1})$ donc si on pose $U =X^T X$ on a $\\text{tr}(U U^{-1}) = \\text{tr}(I_d)$)\n",
    "\n",
    "Donc $$E[R_n(\\hat{\\theta})] = \\frac{\\sigma^2}{n} (n - d) = \\frac{{n-d}}{{n}} \\sigma^2$$\n",
    "\n",
    "La proposition 1 est démontrée."
   ]
  },
  {
   "cell_type": "markdown",
   "metadata": {},
   "source": [
    "### Question 6: \n",
    "\n",
    "Dans un modèle de régression linéaire, l'estimateur non biaisé de la variance  $\\sigma^2$ est calculé en utilisant la formule suivante :\n",
    "\n",
    "$$\\sigma^2 = \\frac{{\\|y - X\\hat{\\theta}\\|^2}}{{n-d}}$$\n",
    "\n",
    "où :\n",
    "\n",
    "- $\\sigma^2$ est la variance de l'erreur,\n",
    "- y est le vecteur des variables cibles,\n",
    "- X est la matrice des variables explicatives,\n",
    "- $\\hat{\\theta}\\$ est l'estimateur des coefficients de régression,\n",
    "- n est le nombre d'observations,\n",
    "- d est le nombre de variables explicatives."
   ]
  },
  {
   "cell_type": "markdown",
   "metadata": {},
   "source": [
    "### Question 7: \n",
    "\n",
    "Estimer $\\sigma^2$: "
   ]
  },
  {
   "cell_type": "code",
   "execution_count": 8,
   "metadata": {},
   "outputs": [
    {
     "name": "stdout",
     "output_type": "stream",
     "text": [
      "My estimated σ^2 is:  3.7514776532472593\n"
     ]
    }
   ],
   "source": [
    "import numpy as np\n",
    "from sklearn.linear_model import LinearRegression\n",
    "\n",
    "np.random.seed(0)\n",
    "\n",
    "#take random values\n",
    "n = 100  \n",
    "d = 2  \n",
    "\n",
    "x = np.random.normal(size=(n, d))      \n",
    "y = x.dot(np.random.normal(size=d)) + np.random.normal(scale=2, size=n)  \n",
    "\n",
    "model = LinearRegression(fit_intercept=False)\n",
    "model.fit(x, y)\n",
    "theta = model.coef_  \n",
    "\n",
    "estimated_sigma2 = np.sum((y - x.dot(theta))**2)/ (n - d)\n",
    "\n",
    "\n",
    "print(\"My estimated σ^2 is: \", estimated_sigma2)\n"
   ]
  }
 ],
 "metadata": {
  "interpreter": {
   "hash": "abdc3a3785ca039e78fabe21a348fb7addbb37f449c4b7db4d5d0906e23aebf6"
  },
  "kernelspec": {
   "display_name": "Python 3 (ipykernel)",
   "language": "python",
   "name": "python3"
  },
  "language_info": {
   "codemirror_mode": {
    "name": "ipython",
    "version": 3
   },
   "file_extension": ".py",
   "mimetype": "text/x-python",
   "name": "python",
   "nbconvert_exporter": "python",
   "pygments_lexer": "ipython3",
   "version": "3.10.9"
  }
 },
 "nbformat": 4,
 "nbformat_minor": 2
}
